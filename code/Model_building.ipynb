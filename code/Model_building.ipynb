{
 "cells": [
  {
   "cell_type": "markdown",
   "id": "aede0634-4f16-420c-a63b-d149b3505a95",
   "metadata": {},
   "source": [
    "# Project 3\n",
    "## EDA and Model Building"
   ]
  },
  {
   "cell_type": "code",
   "execution_count": 1,
   "id": "b72fbc35-022e-4c90-811a-18c0f2ced33d",
   "metadata": {},
   "outputs": [],
   "source": [
    "import numpy as np\n",
    "import pandas as pd\n",
    "import matplotlib.pyplot as plt\n",
    "\n",
    "from sklearn.feature_extraction.text import CountVectorizer \n",
    "from sklearn.model_selection import train_test_split, GridSearchCV\n",
    "from sklearn.ensemble import RandomForestClassifier\n",
    "from sklearn.svm import SVC"
   ]
  },
  {
   "cell_type": "code",
   "execution_count": 2,
   "id": "4341d5f3-61a1-4e0c-9b88-fc526a0a97cf",
   "metadata": {},
   "outputs": [],
   "source": [
    "posts = pd.read_csv('../data/October_1-14.csv')"
   ]
  },
  {
   "cell_type": "code",
   "execution_count": 3,
   "id": "2660effb-cb5c-4bd8-9797-68aedb198dfb",
   "metadata": {},
   "outputs": [],
   "source": [
    "posts.fillna('', inplace=True)"
   ]
  },
  {
   "cell_type": "code",
   "execution_count": 4,
   "id": "74eb1e3a-c2da-42b3-9107-c5f301b62a66",
   "metadata": {},
   "outputs": [],
   "source": [
    "posts['combined'] = posts['selftext'] + ' ' + posts['title']\n",
    "posts['is_nfl'] = (posts['subreddit'] == 'nfl').map(int)"
   ]
  },
  {
   "cell_type": "code",
   "execution_count": 5,
   "id": "6a6dc5d2-98f4-44df-b603-d62557acae6f",
   "metadata": {},
   "outputs": [],
   "source": [
    "X = posts['combined']\n",
    "y = posts['is_nfl']"
   ]
  },
  {
   "cell_type": "code",
   "execution_count": 6,
   "id": "c117aeff-2e4f-4eae-b863-28e945ed30b0",
   "metadata": {},
   "outputs": [],
   "source": [
    "X_train, X_test, y_train, y_test = train_test_split(X, y, random_state=2022)"
   ]
  },
  {
   "cell_type": "markdown",
   "id": "67abdddb-9050-4e0f-9326-3cf97b96a2a4",
   "metadata": {},
   "source": [
    "Using CountVectorizer to process text data"
   ]
  },
  {
   "cell_type": "code",
   "execution_count": 7,
   "id": "5582620d-eac3-499e-b7c2-49fe9609a3e2",
   "metadata": {
    "tags": []
   },
   "outputs": [],
   "source": [
    "cvec = CountVectorizer(stop_words='english', min_df=5)\n",
    "cvec.fit(X_train)\n",
    "X_train = cvec.transform(X_train)\n",
    "X_test = cvec.transform(X_test)\n",
    "X_cv = cvec.transform(X)"
   ]
  },
  {
   "cell_type": "code",
   "execution_count": 8,
   "id": "70041a70-1c5d-4bd4-bc77-be3d9688ec35",
   "metadata": {},
   "outputs": [],
   "source": [
    "# for visualizations\n",
    "df = pd.DataFrame(X_cv.todense(), columns=cvec.get_feature_names_out())"
   ]
  },
  {
   "cell_type": "markdown",
   "id": "7998f443-e401-416c-9ac9-8da62401a3b0",
   "metadata": {},
   "source": [
    "## EDA"
   ]
  },
  {
   "cell_type": "code",
   "execution_count": 9,
   "id": "3173a160-0d74-4d24-9b45-4f9cf7325085",
   "metadata": {},
   "outputs": [
    {
     "data": {
      "image/png": "[encoded data removed]",
      "text/plain": [
       "<Figure size 720x576 with 1 Axes>"
      ]
     },
     "metadata": {
      "needs_background": "light"
     },
     "output_type": "display_data"
    }
   ],
   "source": [
    "# distribution of word counts\n",
    "posts['title_length'] = posts['title'].map(len)\n",
    "plt.figure(figsize=(10, 8))\n",
    "plt.hist(posts[posts['subreddit'] == 'nfl']['title_length'], color='navy', bins=20, alpha=0.7, label='r/NFL')\n",
    "plt.hist(posts[posts['subreddit'] == 'soccer']['title_length'], color='maroon', bins=20, alpha=0.7, label='r/soccer')\n",
    "plt.legend(loc='upper right')\n",
    "plt.xlabel('Title Length')\n",
    "plt.ylabel('Number of Posts')\n",
    "plt.title('Distribution of Title Length for r/NFL v r/soccer', loc='left')\n",
    "plt.savefig('../imgs/histograms.png', dpi=192, facecolor='white');"
   ]
  },
  {
   "cell_type": "code",
   "execution_count": 10,
   "id": "c3aa8850-743e-4ed9-96ff-ab8d80ef1f64",
   "metadata": {},
   "outputs": [
    {
     "data": {
      "text/html": [
       "<div>\n",
       "<style scoped>\n",
       "    .dataframe tbody tr th:only-of-type {\n",
       "        vertical-align: middle;\n",
       "    }\n",
       "\n",
       "    .dataframe tbody tr th {\n",
       "        vertical-align: top;\n",
       "    }\n",
       "\n",
       "    .dataframe thead th {\n",
       "        text-align: right;\n",
       "    }\n",
       "</style>\n",
       "<table border=\"1\" class=\"dataframe\">\n",
       "  <thead>\n",
       "    <tr style=\"text-align: right;\">\n",
       "      <th></th>\n",
       "      <th>subreddit</th>\n",
       "      <th>selftext</th>\n",
       "      <th>title</th>\n",
       "      <th>combined</th>\n",
       "      <th>is_nfl</th>\n",
       "      <th>title_length</th>\n",
       "    </tr>\n",
       "  </thead>\n",
       "  <tbody>\n",
       "    <tr>\n",
       "      <th>1442</th>\n",
       "      <td>nfl</td>\n",
       "      <td></td>\n",
       "      <td>[Jackson] NFL and union say: The investigation...</td>\n",
       "      <td>[Jackson] NFL and union say: The investigatio...</td>\n",
       "      <td>1</td>\n",
       "      <td>308</td>\n",
       "    </tr>\n",
       "    <tr>\n",
       "      <th>1438</th>\n",
       "      <td>nfl</td>\n",
       "      <td></td>\n",
       "      <td>[Barry Jackson] Tua investigation compete. NFL...</td>\n",
       "      <td>[Barry Jackson] Tua investigation compete. NF...</td>\n",
       "      <td>1</td>\n",
       "      <td>301</td>\n",
       "    </tr>\n",
       "    <tr>\n",
       "      <th>2679</th>\n",
       "      <td>nfl</td>\n",
       "      <td></td>\n",
       "      <td>[ProFootballTalk] As one high-level source wit...</td>\n",
       "      <td>[ProFootballTalk] As one high-level source wi...</td>\n",
       "      <td>1</td>\n",
       "      <td>299</td>\n",
       "    </tr>\n",
       "    <tr>\n",
       "      <th>1434</th>\n",
       "      <td>nfl</td>\n",
       "      <td></td>\n",
       "      <td>[Mike Garafolo] Conclusions of the joint NFL-N...</td>\n",
       "      <td>[Mike Garafolo] Conclusions of the joint NFL-...</td>\n",
       "      <td>1</td>\n",
       "      <td>296</td>\n",
       "    </tr>\n",
       "    <tr>\n",
       "      <th>1037</th>\n",
       "      <td>nfl</td>\n",
       "      <td></td>\n",
       "      <td>[ESPN] Mike McDaniel: I'm actually the anti-T....</td>\n",
       "      <td>[ESPN] Mike McDaniel: I'm actually the anti-T...</td>\n",
       "      <td>1</td>\n",
       "      <td>296</td>\n",
       "    </tr>\n",
       "  </tbody>\n",
       "</table>\n",
       "</div>"
      ],
      "text/plain": [
       "     subreddit selftext                                              title  \\\n",
       "1442       nfl           [Jackson] NFL and union say: The investigation...   \n",
       "1438       nfl           [Barry Jackson] Tua investigation compete. NFL...   \n",
       "2679       nfl           [ProFootballTalk] As one high-level source wit...   \n",
       "1434       nfl           [Mike Garafolo] Conclusions of the joint NFL-N...   \n",
       "1037       nfl           [ESPN] Mike McDaniel: I'm actually the anti-T....   \n",
       "\n",
       "                                               combined  is_nfl  title_length  \n",
       "1442   [Jackson] NFL and union say: The investigatio...       1           308  \n",
       "1438   [Barry Jackson] Tua investigation compete. NF...       1           301  \n",
       "2679   [ProFootballTalk] As one high-level source wi...       1           299  \n",
       "1434   [Mike Garafolo] Conclusions of the joint NFL-...       1           296  \n",
       "1037   [ESPN] Mike McDaniel: I'm actually the anti-T...       1           296  "
      ]
     },
     "execution_count": 10,
     "metadata": {},
     "output_type": "execute_result"
    }
   ],
   "source": [
    "# The longest titles on r/NFL are links to tweets\n",
    "posts[posts['subreddit'] == 'nfl'].sort_values('title_length', ascending=False).head()"
   ]
  },
  {
   "cell_type": "code",
   "execution_count": 11,
   "id": "1250214f-2742-4f91-94b5-b92318619d96",
   "metadata": {},
   "outputs": [
    {
     "data": {
      "image/png": "[encoded data removed]",
      "text/plain": [
       "<Figure size 720x576 with 1 Axes>"
      ]
     },
     "metadata": {
      "needs_background": "light"
     },
     "output_type": "display_data"
    }
   ],
   "source": [
    "plt.figure(figsize=(10,8))\n",
    "df.sum().sort_values(ascending=False).head(10).plot(kind='bar');"
   ]
  },
  {
   "cell_type": "code",
   "execution_count": 12,
   "id": "03b7c1cc-84cc-4336-b9f4-e0e374625051",
   "metadata": {},
   "outputs": [],
   "source": [
    "df['subreddit'] = posts['subreddit']"
   ]
  },
  {
   "cell_type": "code",
   "execution_count": 13,
   "id": "024e19c6-7769-4d54-9eca-a302d1a98b46",
   "metadata": {},
   "outputs": [
    {
     "data": {
      "image/png": "[encoded data removed]",
      "text/plain": [
       "<Figure size 1080x720 with 1 Axes>"
      ]
     },
     "metadata": {
      "needs_background": "light"
     },
     "output_type": "display_data"
    }
   ],
   "source": [
    "plt.figure(figsize=(15,10))\n",
    "df[df['subreddit'] == 'nfl'].drop(columns='subreddit').sum().sort_values(ascending=False).head(15).plot(kind='bar', color='Navy')\n",
    "plt.title('Top 15 Most Common Words r/NFL', loc='left')\n",
    "plt.xlabel('Words')\n",
    "plt.ylabel('Number of Occurences')\n",
    "plt.savefig('../imgs/top15NFL.png', dpi=192, facecolor='white');"
   ]
  },
  {
   "cell_type": "code",
   "execution_count": 14,
   "id": "65abe9cd-2b8c-4792-a087-c6a6158e28e5",
   "metadata": {},
   "outputs": [
    {
     "data": {
      "image/png": "[encoded data removed]",
      "text/plain": [
       "<Figure size 1080x720 with 1 Axes>"
      ]
     },
     "metadata": {
      "needs_background": "light"
     },
     "output_type": "display_data"
    }
   ],
   "source": [
    "plt.figure(figsize=(15,10))\n",
    "df[df['subreddit'] == 'soccer'].drop(columns='subreddit').sum().sort_values(ascending=False).head(15).plot(kind='bar', color='maroon')\n",
    "plt.title('Top 15 Most Common Words r/soccer', loc='left')\n",
    "plt.xlabel('Words')\n",
    "plt.ylabel('Number of Occurences')\n",
    "plt.savefig('../imgs/top15soccer.png', dpi=192, facecolor='white');"
   ]
  },
  {
   "cell_type": "code",
   "execution_count": 15,
   "id": "cf06000b-9fba-488f-b09e-8e47e350ed99",
   "metadata": {},
   "outputs": [
    {
     "data": {
      "text/html": [
       "<div>\n",
       "<style scoped>\n",
       "    .dataframe tbody tr th:only-of-type {\n",
       "        vertical-align: middle;\n",
       "    }\n",
       "\n",
       "    .dataframe tbody tr th {\n",
       "        vertical-align: top;\n",
       "    }\n",
       "\n",
       "    .dataframe thead th {\n",
       "        text-align: right;\n",
       "    }\n",
       "</style>\n",
       "<table border=\"1\" class=\"dataframe\">\n",
       "  <thead>\n",
       "    <tr style=\"text-align: right;\">\n",
       "      <th></th>\n",
       "      <th>subreddit</th>\n",
       "      <th>selftext</th>\n",
       "      <th>title</th>\n",
       "      <th>combined</th>\n",
       "      <th>is_nfl</th>\n",
       "      <th>title_length</th>\n",
       "    </tr>\n",
       "  </thead>\n",
       "  <tbody>\n",
       "    <tr>\n",
       "      <th>111</th>\n",
       "      <td>soccer</td>\n",
       "      <td># [](#sprite1-p64) **Werder Bremen** [0 - 0](#...</td>\n",
       "      <td>Match Thread: Werder Bremen vs. Borussia Mönch...</td>\n",
       "      <td># [](#sprite1-p64) **Werder Bremen** [0 - 0](#...</td>\n",
       "      <td>0</td>\n",
       "      <td>69</td>\n",
       "    </tr>\n",
       "    <tr>\n",
       "      <th>114</th>\n",
       "      <td>soccer</td>\n",
       "      <td>#**54': WSG Swarovski Tirol  [vs](#bar-3-white...</td>\n",
       "      <td>Match Thread: WSG Swarovski Tirol vs Rapid Vie...</td>\n",
       "      <td>#**54': WSG Swarovski Tirol  [vs](#bar-3-white...</td>\n",
       "      <td>0</td>\n",
       "      <td>71</td>\n",
       "    </tr>\n",
       "    <tr>\n",
       "      <th>120</th>\n",
       "      <td>soccer</td>\n",
       "      <td>#**FT: SC Cambuur  [3-0](#bar-3-white)  PSV Ei...</td>\n",
       "      <td>Post Match Thread: SC Cambuur 3-0 PSV Eindhove...</td>\n",
       "      <td>#**FT: SC Cambuur  [3-0](#bar-3-white)  PSV Ei...</td>\n",
       "      <td>0</td>\n",
       "      <td>66</td>\n",
       "    </tr>\n",
       "    <tr>\n",
       "      <th>129</th>\n",
       "      <td>soccer</td>\n",
       "      <td>#**1': Sevilla  [vs](#bar-3-white)  Atletico M...</td>\n",
       "      <td>Match Thread: Sevilla vs Atletico Madrid | LaLiga</td>\n",
       "      <td>#**1': Sevilla  [vs](#bar-3-white)  Atletico M...</td>\n",
       "      <td>0</td>\n",
       "      <td>49</td>\n",
       "    </tr>\n",
       "    <tr>\n",
       "      <th>141</th>\n",
       "      <td>soccer</td>\n",
       "      <td>#**3': FC Groningen  [vs](#bar-3-white)  AZ Al...</td>\n",
       "      <td>Match Thread: FC Groningen vs AZ Alkmaar | Dut...</td>\n",
       "      <td>#**3': FC Groningen  [vs](#bar-3-white)  AZ Al...</td>\n",
       "      <td>0</td>\n",
       "      <td>59</td>\n",
       "    </tr>\n",
       "    <tr>\n",
       "      <th>142</th>\n",
       "      <td>soccer</td>\n",
       "      <td>#**20': West Ham United  [vs](#bar-3-white)  W...</td>\n",
       "      <td>Match Thread: West Ham United vs Wolverhampton...</td>\n",
       "      <td>#**20': West Ham United  [vs](#bar-3-white)  W...</td>\n",
       "      <td>0</td>\n",
       "      <td>81</td>\n",
       "    </tr>\n",
       "    <tr>\n",
       "      <th>159</th>\n",
       "      <td>soccer</td>\n",
       "      <td>#**54': Lillestrom  [vs](#bar-3-white)  Bodo/G...</td>\n",
       "      <td>Match Thread: Lillestrom vs Bodo/Glimt | Elite...</td>\n",
       "      <td>#**54': Lillestrom  [vs](#bar-3-white)  Bodo/G...</td>\n",
       "      <td>0</td>\n",
       "      <td>52</td>\n",
       "    </tr>\n",
       "    <tr>\n",
       "      <th>181</th>\n",
       "      <td>soccer</td>\n",
       "      <td>#**FT: Internazionale  [1-2](#bar-3-white)  AS...</td>\n",
       "      <td>Post Match Thread: Internazionale 1-2 AS Roma ...</td>\n",
       "      <td>#**FT: Internazionale  [1-2](#bar-3-white)  AS...</td>\n",
       "      <td>0</td>\n",
       "      <td>63</td>\n",
       "    </tr>\n",
       "    <tr>\n",
       "      <th>185</th>\n",
       "      <td>soccer</td>\n",
       "      <td>#**0': Ajax Amsterdam  [vs](#bar-3-white)  Go ...</td>\n",
       "      <td>Match Thread: Ajax Amsterdam vs Go Ahead Eagle...</td>\n",
       "      <td>#**0': Ajax Amsterdam  [vs](#bar-3-white)  Go ...</td>\n",
       "      <td>0</td>\n",
       "      <td>66</td>\n",
       "    </tr>\n",
       "    <tr>\n",
       "      <th>195</th>\n",
       "      <td>soccer</td>\n",
       "      <td>#**FT: Werder Bremen  [5-1](#bar-3-white)  Bor...</td>\n",
       "      <td>Post Match Thread: Werder Bremen 5-1 Borussia ...</td>\n",
       "      <td>#**FT: Werder Bremen  [5-1](#bar-3-white)  Bor...</td>\n",
       "      <td>0</td>\n",
       "      <td>81</td>\n",
       "    </tr>\n",
       "  </tbody>\n",
       "</table>\n",
       "</div>"
      ],
      "text/plain": [
       "    subreddit                                           selftext  \\\n",
       "111    soccer  # [](#sprite1-p64) **Werder Bremen** [0 - 0](#...   \n",
       "114    soccer  #**54': WSG Swarovski Tirol  [vs](#bar-3-white...   \n",
       "120    soccer  #**FT: SC Cambuur  [3-0](#bar-3-white)  PSV Ei...   \n",
       "129    soccer  #**1': Sevilla  [vs](#bar-3-white)  Atletico M...   \n",
       "141    soccer  #**3': FC Groningen  [vs](#bar-3-white)  AZ Al...   \n",
       "142    soccer  #**20': West Ham United  [vs](#bar-3-white)  W...   \n",
       "159    soccer  #**54': Lillestrom  [vs](#bar-3-white)  Bodo/G...   \n",
       "181    soccer  #**FT: Internazionale  [1-2](#bar-3-white)  AS...   \n",
       "185    soccer  #**0': Ajax Amsterdam  [vs](#bar-3-white)  Go ...   \n",
       "195    soccer  #**FT: Werder Bremen  [5-1](#bar-3-white)  Bor...   \n",
       "\n",
       "                                                 title  \\\n",
       "111  Match Thread: Werder Bremen vs. Borussia Mönch...   \n",
       "114  Match Thread: WSG Swarovski Tirol vs Rapid Vie...   \n",
       "120  Post Match Thread: SC Cambuur 3-0 PSV Eindhove...   \n",
       "129  Match Thread: Sevilla vs Atletico Madrid | LaLiga   \n",
       "141  Match Thread: FC Groningen vs AZ Alkmaar | Dut...   \n",
       "142  Match Thread: West Ham United vs Wolverhampton...   \n",
       "159  Match Thread: Lillestrom vs Bodo/Glimt | Elite...   \n",
       "181  Post Match Thread: Internazionale 1-2 AS Roma ...   \n",
       "185  Match Thread: Ajax Amsterdam vs Go Ahead Eagle...   \n",
       "195  Post Match Thread: Werder Bremen 5-1 Borussia ...   \n",
       "\n",
       "                                              combined  is_nfl  title_length  \n",
       "111  # [](#sprite1-p64) **Werder Bremen** [0 - 0](#...       0            69  \n",
       "114  #**54': WSG Swarovski Tirol  [vs](#bar-3-white...       0            71  \n",
       "120  #**FT: SC Cambuur  [3-0](#bar-3-white)  PSV Ei...       0            66  \n",
       "129  #**1': Sevilla  [vs](#bar-3-white)  Atletico M...       0            49  \n",
       "141  #**3': FC Groningen  [vs](#bar-3-white)  AZ Al...       0            59  \n",
       "142  #**20': West Ham United  [vs](#bar-3-white)  W...       0            81  \n",
       "159  #**54': Lillestrom  [vs](#bar-3-white)  Bodo/G...       0            52  \n",
       "181  #**FT: Internazionale  [1-2](#bar-3-white)  AS...       0            63  \n",
       "185  #**0': Ajax Amsterdam  [vs](#bar-3-white)  Go ...       0            66  \n",
       "195  #**FT: Werder Bremen  [5-1](#bar-3-white)  Bor...       0            81  "
      ]
     },
     "execution_count": 15,
     "metadata": {},
     "output_type": "execute_result"
    }
   ],
   "source": [
    "# looking for icon\n",
    "posts[posts['combined'].str.lower().str.contains('icon')].head(10)"
   ]
  },
  {
   "cell_type": "code",
   "execution_count": 16,
   "id": "29a550bf-aca4-472e-983d-7b15b31dc4f4",
   "metadata": {},
   "outputs": [
    {
     "data": {
      "text/html": [
       "<div>\n",
       "<style scoped>\n",
       "    .dataframe tbody tr th:only-of-type {\n",
       "        vertical-align: middle;\n",
       "    }\n",
       "\n",
       "    .dataframe tbody tr th {\n",
       "        vertical-align: top;\n",
       "    }\n",
       "\n",
       "    .dataframe thead th {\n",
       "        text-align: right;\n",
       "    }\n",
       "</style>\n",
       "<table border=\"1\" class=\"dataframe\">\n",
       "  <thead>\n",
       "    <tr style=\"text-align: right;\">\n",
       "      <th></th>\n",
       "      <th>subreddit</th>\n",
       "      <th>selftext</th>\n",
       "      <th>title</th>\n",
       "      <th>combined</th>\n",
       "      <th>is_nfl</th>\n",
       "      <th>title_length</th>\n",
       "    </tr>\n",
       "  </thead>\n",
       "  <tbody>\n",
       "    <tr>\n",
       "      <th>111</th>\n",
       "      <td>soccer</td>\n",
       "      <td># [](#sprite1-p64) **Werder Bremen** [0 - 0](#...</td>\n",
       "      <td>Match Thread: Werder Bremen vs. Borussia Mönch...</td>\n",
       "      <td># [](#sprite1-p64) **Werder Bremen** [0 - 0](#...</td>\n",
       "      <td>0</td>\n",
       "      <td>69</td>\n",
       "    </tr>\n",
       "    <tr>\n",
       "      <th>196</th>\n",
       "      <td>soccer</td>\n",
       "      <td># [](#sprite1-p64) **Werder Bremen** [5 - 1](#...</td>\n",
       "      <td>Post-Match Thread: Werder Bremen 5-1 Borussia ...</td>\n",
       "      <td># [](#sprite1-p64) **Werder Bremen** [5 - 1](#...</td>\n",
       "      <td>0</td>\n",
       "      <td>74</td>\n",
       "    </tr>\n",
       "    <tr>\n",
       "      <th>588</th>\n",
       "      <td>soccer</td>\n",
       "      <td># [](#sprite1-p87) **Leicester City** [4 - 0](...</td>\n",
       "      <td>Post-Match Thread: Leicester City 4-0 Nottingh...</td>\n",
       "      <td># [](#sprite1-p87) **Leicester City** [4 - 0](...</td>\n",
       "      <td>0</td>\n",
       "      <td>72</td>\n",
       "    </tr>\n",
       "    <tr>\n",
       "      <th>699</th>\n",
       "      <td>soccer</td>\n",
       "      <td># [](#sprite1-p8) **Bayern Munich** [0 - 0](#b...</td>\n",
       "      <td>Match Thread: Bayern Munich vs. Viktoria Plzeň...</td>\n",
       "      <td># [](#sprite1-p8) **Bayern Munich** [0 - 0](#b...</td>\n",
       "      <td>0</td>\n",
       "      <td>70</td>\n",
       "    </tr>\n",
       "    <tr>\n",
       "      <th>743</th>\n",
       "      <td>soccer</td>\n",
       "      <td># [](#sprite1-p3) **Liverpool** [0 - 0](#bar-3...</td>\n",
       "      <td>Match Thread: Liverpool vs. Rangers | UEFA Cha...</td>\n",
       "      <td># [](#sprite1-p3) **Liverpool** [0 - 0](#bar-3...</td>\n",
       "      <td>0</td>\n",
       "      <td>59</td>\n",
       "    </tr>\n",
       "    <tr>\n",
       "      <th>901</th>\n",
       "      <td>soccer</td>\n",
       "      <td># [](#sprite5-p14) **RB Leipzig** [0 - 0](#bar...</td>\n",
       "      <td>Match Thread: RB Leipzig vs. Celtic | UEFA Cha...</td>\n",
       "      <td># [](#sprite5-p14) **RB Leipzig** [0 - 0](#bar...</td>\n",
       "      <td>0</td>\n",
       "      <td>59</td>\n",
       "    </tr>\n",
       "    <tr>\n",
       "      <th>1187</th>\n",
       "      <td>soccer</td>\n",
       "      <td># [](#sprite1-p1) **Arsenal** [0 - 0](#bar-3-w...</td>\n",
       "      <td>Match Thread: Arsenal vs. Bodø/Glimt | UEFA Eu...</td>\n",
       "      <td># [](#sprite1-p1) **Arsenal** [0 - 0](#bar-3-w...</td>\n",
       "      <td>0</td>\n",
       "      <td>57</td>\n",
       "    </tr>\n",
       "    <tr>\n",
       "      <th>1343</th>\n",
       "      <td>soccer</td>\n",
       "      <td># [](#sprite2-p87) **Osasuna** [0 - 0](#bar-3-...</td>\n",
       "      <td>Match Thread: Osasuna vs. Valencia | LaLiga</td>\n",
       "      <td># [](#sprite2-p87) **Osasuna** [0 - 0](#bar-3-...</td>\n",
       "      <td>0</td>\n",
       "      <td>43</td>\n",
       "    </tr>\n",
       "    <tr>\n",
       "      <th>1389</th>\n",
       "      <td>soccer</td>\n",
       "      <td># [](#sprite2-p87) **Osasuna** [1 - 2](#bar-3-...</td>\n",
       "      <td>Post-Match Thread: Osasuna 1-2 Valencia | LaLiga</td>\n",
       "      <td># [](#sprite2-p87) **Osasuna** [1 - 2](#bar-3-...</td>\n",
       "      <td>0</td>\n",
       "      <td>48</td>\n",
       "    </tr>\n",
       "    <tr>\n",
       "      <th>1557</th>\n",
       "      <td>soccer</td>\n",
       "      <td># [](#sprite1-p13) **AC Milan** [2 - 0](#bar-3...</td>\n",
       "      <td>Post-Match Thread: AC Milan 2-0 Juventus | Ser...</td>\n",
       "      <td># [](#sprite1-p13) **AC Milan** [2 - 0](#bar-3...</td>\n",
       "      <td>0</td>\n",
       "      <td>50</td>\n",
       "    </tr>\n",
       "  </tbody>\n",
       "</table>\n",
       "</div>"
      ],
      "text/plain": [
       "     subreddit                                           selftext  \\\n",
       "111     soccer  # [](#sprite1-p64) **Werder Bremen** [0 - 0](#...   \n",
       "196     soccer  # [](#sprite1-p64) **Werder Bremen** [5 - 1](#...   \n",
       "588     soccer  # [](#sprite1-p87) **Leicester City** [4 - 0](...   \n",
       "699     soccer  # [](#sprite1-p8) **Bayern Munich** [0 - 0](#b...   \n",
       "743     soccer  # [](#sprite1-p3) **Liverpool** [0 - 0](#bar-3...   \n",
       "901     soccer  # [](#sprite5-p14) **RB Leipzig** [0 - 0](#bar...   \n",
       "1187    soccer  # [](#sprite1-p1) **Arsenal** [0 - 0](#bar-3-w...   \n",
       "1343    soccer  # [](#sprite2-p87) **Osasuna** [0 - 0](#bar-3-...   \n",
       "1389    soccer  # [](#sprite2-p87) **Osasuna** [1 - 2](#bar-3-...   \n",
       "1557    soccer  # [](#sprite1-p13) **AC Milan** [2 - 0](#bar-3...   \n",
       "\n",
       "                                                  title  \\\n",
       "111   Match Thread: Werder Bremen vs. Borussia Mönch...   \n",
       "196   Post-Match Thread: Werder Bremen 5-1 Borussia ...   \n",
       "588   Post-Match Thread: Leicester City 4-0 Nottingh...   \n",
       "699   Match Thread: Bayern Munich vs. Viktoria Plzeň...   \n",
       "743   Match Thread: Liverpool vs. Rangers | UEFA Cha...   \n",
       "901   Match Thread: RB Leipzig vs. Celtic | UEFA Cha...   \n",
       "1187  Match Thread: Arsenal vs. Bodø/Glimt | UEFA Eu...   \n",
       "1343        Match Thread: Osasuna vs. Valencia | LaLiga   \n",
       "1389   Post-Match Thread: Osasuna 1-2 Valencia | LaLiga   \n",
       "1557  Post-Match Thread: AC Milan 2-0 Juventus | Ser...   \n",
       "\n",
       "                                               combined  is_nfl  title_length  \n",
       "111   # [](#sprite1-p64) **Werder Bremen** [0 - 0](#...       0            69  \n",
       "196   # [](#sprite1-p64) **Werder Bremen** [5 - 1](#...       0            74  \n",
       "588   # [](#sprite1-p87) **Leicester City** [4 - 0](...       0            72  \n",
       "699   # [](#sprite1-p8) **Bayern Munich** [0 - 0](#b...       0            70  \n",
       "743   # [](#sprite1-p3) **Liverpool** [0 - 0](#bar-3...       0            59  \n",
       "901   # [](#sprite5-p14) **RB Leipzig** [0 - 0](#bar...       0            59  \n",
       "1187  # [](#sprite1-p1) **Arsenal** [0 - 0](#bar-3-w...       0            57  \n",
       "1343  # [](#sprite2-p87) **Osasuna** [0 - 0](#bar-3-...       0            43  \n",
       "1389  # [](#sprite2-p87) **Osasuna** [1 - 2](#bar-3-...       0            48  \n",
       "1557  # [](#sprite1-p13) **AC Milan** [2 - 0](#bar-3...       0            50  "
      ]
     },
     "execution_count": 16,
     "metadata": {},
     "output_type": "execute_result"
    }
   ],
   "source": [
    "posts[posts['combined'].str.lower().str.contains('sprite6')].head(10)"
   ]
  },
  {
   "cell_type": "markdown",
   "id": "8fca5812-ed31-4e25-838a-bfb09878841e",
   "metadata": {},
   "source": [
    "### Model 1\n",
    "#### Random Forest"
   ]
  },
  {
   "cell_type": "code",
   "execution_count": 17,
   "id": "006f3b5c-3098-4a3b-9e5c-cba1417ed38e",
   "metadata": {
    "tags": []
   },
   "outputs": [
    {
     "data": {
      "text/plain": [
       "GridSearchCV(cv=5,\n",
       "             estimator=RandomForestClassifier(n_jobs=6, random_state=2022),\n",
       "             param_grid={'max_depth': [2, 4, 6, 8, None],\n",
       "                         'n_estimators': [100, 150, 200]})"
      ]
     },
     "execution_count": 17,
     "metadata": {},
     "output_type": "execute_result"
    }
   ],
   "source": [
    "rf = RandomForestClassifier(random_state=2022, n_jobs=6)\n",
    "pgrid_tree = {\n",
    "    'n_estimators': [100, 150, 200],\n",
    "    'max_depth': [2, 4, 6, 8, None]\n",
    "}\n",
    "gs_tree = GridSearchCV(rf, pgrid_tree, cv=5)\n",
    "gs_tree.fit(X_train, y_train)"
   ]
  },
  {
   "cell_type": "code",
   "execution_count": 18,
   "id": "097a8890-6438-442f-9ec7-9ac2994fbe91",
   "metadata": {},
   "outputs": [
    {
     "data": {
      "text/plain": [
       "{'max_depth': None, 'n_estimators': 150}"
      ]
     },
     "execution_count": 18,
     "metadata": {},
     "output_type": "execute_result"
    }
   ],
   "source": [
    "gs_tree.best_params_"
   ]
  },
  {
   "cell_type": "code",
   "execution_count": 19,
   "id": "dd6e9ee3-64b5-47db-8658-11496d2cc1f2",
   "metadata": {},
   "outputs": [
    {
     "data": {
      "text/plain": [
       "0.9957040572792363"
      ]
     },
     "execution_count": 19,
     "metadata": {},
     "output_type": "execute_result"
    }
   ],
   "source": [
    "gs_tree.score(X_train, y_train)"
   ]
  },
  {
   "cell_type": "code",
   "execution_count": 20,
   "id": "e402f231-eb83-45b5-ba67-61ae7bef5c34",
   "metadata": {},
   "outputs": [
    {
     "data": {
      "text/plain": [
       "0.932761087267525"
      ]
     },
     "execution_count": 20,
     "metadata": {},
     "output_type": "execute_result"
    }
   ],
   "source": [
    "gs_tree.score(X_test, y_test)"
   ]
  },
  {
   "cell_type": "markdown",
   "id": "fd12e0b4-cfdc-4f97-bb65-72019b5b3cdb",
   "metadata": {},
   "source": [
    "### Model 2\n",
    "#### Support Vector Machine"
   ]
  },
  {
   "cell_type": "code",
   "execution_count": 21,
   "id": "bc6190ed-372b-4a18-8479-dd81212de627",
   "metadata": {},
   "outputs": [],
   "source": [
    "svm = SVC(degree=2, random_state=2022)\n",
    "pgrid = {'C': np.linspace(0.01, 100, 20)}\n",
    "\n",
    "gs = GridSearchCV(svm, pgrid, cv=5)"
   ]
  },
  {
   "cell_type": "code",
   "execution_count": 22,
   "id": "074bb689-bcde-44f5-bed0-3d5d34440ba1",
   "metadata": {},
   "outputs": [],
   "source": [
    "gs.fit(X_train, y_train);"
   ]
  },
  {
   "cell_type": "code",
   "execution_count": 23,
   "id": "0e78a891-c593-4695-98db-fdbe5f4f52d7",
   "metadata": {},
   "outputs": [
    {
     "data": {
      "text/plain": [
       "{'C': 15.797894736842105}"
      ]
     },
     "execution_count": 23,
     "metadata": {},
     "output_type": "execute_result"
    }
   ],
   "source": [
    "gs.best_params_"
   ]
  },
  {
   "cell_type": "code",
   "execution_count": 24,
   "id": "9e76ba58-2fc4-4dfe-85ef-f44adcce9ab0",
   "metadata": {},
   "outputs": [
    {
     "data": {
      "text/plain": [
       "0.9828162291169451"
      ]
     },
     "execution_count": 24,
     "metadata": {},
     "output_type": "execute_result"
    }
   ],
   "source": [
    "gs.score(X_train, y_train)"
   ]
  },
  {
   "cell_type": "code",
   "execution_count": 25,
   "id": "6ea2ae94-4ec8-49c3-9daf-4946cce9b426",
   "metadata": {},
   "outputs": [
    {
     "data": {
      "text/plain": [
       "0.9170243204577968"
      ]
     },
     "execution_count": 25,
     "metadata": {},
     "output_type": "execute_result"
    }
   ],
   "source": [
    "gs.score(X_test, y_test)"
   ]
  }
 ],
 "metadata": {
  "kernelspec": {
   "display_name": "Python 3 (ipykernel)",
   "language": "python",
   "name": "python3"
  },
  "language_info": {
   "codemirror_mode": {
    "name": "ipython",
    "version": 3
   },
   "file_extension": ".py",
   "mimetype": "text/x-python",
   "name": "python",
   "nbconvert_exporter": "python",
   "pygments_lexer": "ipython3",
   "version": "3.9.12"
  }
 },
 "nbformat": 4,
 "nbformat_minor": 5
}

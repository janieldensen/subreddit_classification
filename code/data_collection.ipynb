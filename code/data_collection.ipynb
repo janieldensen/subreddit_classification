{
 "cells": [
  {
   "cell_type": "markdown",
   "id": "eac13cc3-3879-459f-ace9-fffeece3100f",
   "metadata": {},
   "source": [
    "# Project 3\n",
    "## Data Collection"
   ]
  },
  {
   "cell_type": "code",
   "execution_count": 1,
   "id": "bb0a80c3-b103-4684-9f9b-b27ae159217e",
   "metadata": {},
   "outputs": [],
   "source": [
    "import numpy as np\n",
    "import pandas as pd\n",
    "\n",
    "import requests\n",
    "import time"
   ]
  },
  {
   "cell_type": "code",
   "execution_count": 2,
   "id": "c0282b82-ded8-4f7d-9794-aa0611608968",
   "metadata": {},
   "outputs": [],
   "source": [
    "url = 'https://api.pushshift.io/reddit/search/submission'\n",
    "params = {\n",
    "    'subreddit': '',\n",
    "    'size': 100,\n",
    "    'after': 0,\n",
    "    'before': 0\n",
    "}"
   ]
  },
  {
   "cell_type": "markdown",
   "id": "e3f5360d-5ffb-4936-ba5b-3ba9796ee658",
   "metadata": {},
   "source": [
    "Gets 100 posts from each subreddit each day from first two weeks of October 2022."
   ]
  },
  {
   "cell_type": "code",
   "execution_count": 3,
   "id": "6810b35a-e878-4a4b-aad9-55ad0e9a0e64",
   "metadata": {},
   "outputs": [],
   "source": [
    "# 10/1/22 in unix time\n",
    "day_time_stamp = 1664640000\n",
    "day_length = 86400\n",
    "df = pd.DataFrame()\n",
    "\n",
    "for _ in range(14):\n",
    "    params['after'] = day_time_stamp\n",
    "    params['before'] = day_time_stamp + day_length\n",
    "    \n",
    "    params['subreddit'] = 'nfl'\n",
    "    res = requests.get(url, params)\n",
    "    df = pd.concat([df, pd.DataFrame(res.json()['data'])])\n",
    "    # sleep to obey API request rate\n",
    "    time.sleep(1.5)\n",
    "    \n",
    "    params['subreddit'] = 'soccer'\n",
    "    res = requests.get(url, params)\n",
    "    df = pd.concat([df, pd.DataFrame(res.json()['data'])])\n",
    "    day_time_stamp += day_length\n",
    "    time.sleep(1.5)"
   ]
  },
  {
   "cell_type": "code",
   "execution_count": 4,
   "id": "e83e556b-c10a-4489-b4a8-4349a90a5890",
   "metadata": {},
   "outputs": [],
   "source": [
    "# Only interested in post titles and text\n",
    "result = df.copy()[['subreddit', 'selftext', 'title']]"
   ]
  },
  {
   "cell_type": "markdown",
   "id": "36992bc6-2358-4dd6-90ee-e4895f86f9c5",
   "metadata": {},
   "source": [
    "### Minor data cleaning"
   ]
  },
  {
   "cell_type": "code",
   "execution_count": 5,
   "id": "30b3b8e7-c269-463e-bc6d-0366c08e4ce0",
   "metadata": {},
   "outputs": [
    {
     "data": {
      "text/plain": [
       "subreddit    0\n",
       "selftext     6\n",
       "title        0\n",
       "dtype: int64"
      ]
     },
     "execution_count": 5,
     "metadata": {},
     "output_type": "execute_result"
    }
   ],
   "source": [
    "result.isna().sum()"
   ]
  },
  {
   "cell_type": "code",
   "execution_count": 6,
   "id": "8590636f-b22d-4426-930b-5551732a7c67",
   "metadata": {},
   "outputs": [],
   "source": [
    "result.fillna('', inplace=True)"
   ]
  },
  {
   "cell_type": "markdown",
   "id": "f28cfc05-041d-4ec1-8ccd-5cf79373ac47",
   "metadata": {},
   "source": [
    "## Exporting"
   ]
  },
  {
   "cell_type": "code",
   "execution_count": 7,
   "id": "b389a42a-974e-4ec6-a879-47d2d75e1da0",
   "metadata": {},
   "outputs": [],
   "source": [
    "result.to_csv('../data/October_1-14.csv', index=False)"
   ]
  }
 ],
 "metadata": {
  "kernelspec": {
   "display_name": "Python 3 (ipykernel)",
   "language": "python",
   "name": "python3"
  },
  "language_info": {
   "codemirror_mode": {
    "name": "ipython",
    "version": 3
   },
   "file_extension": ".py",
   "mimetype": "text/x-python",
   "name": "python",
   "nbconvert_exporter": "python",
   "pygments_lexer": "ipython3",
   "version": "3.9.12"
  }
 },
 "nbformat": 4,
 "nbformat_minor": 5
}
